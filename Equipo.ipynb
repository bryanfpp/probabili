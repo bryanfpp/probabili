{
 "cells": [
  {
   "cell_type": "markdown",
   "metadata": {},
   "source": [
    "# Ejercicio 10"
   ]
  },
  {
   "cell_type": "markdown",
   "metadata": {},
   "source": [
    "### Se tiene la palabra MURCIELAGO. Si no se permiten repeticiones al usar las letras que la forman, determina:\n",
    "1. El número de palabras que se pueden formar.\n",
    "2. El número de palabras con 5 letras.\n",
    "3. La probabilidad de que una palabra de 5 letras termine en vocal."
   ]
  },
  {
   "cell_type": "code",
   "execution_count": 2,
   "metadata": {},
   "outputs": [
    {
     "name": "stdout",
     "output_type": "stream",
     "text": [
      "Factorial definido\n"
     ]
    }
   ],
   "source": [
    "def factorial(n):\n",
    "    if n == 0:\n",
    "        return 1\n",
    "    else:\n",
    "        return n * factorial(n-1)\n",
    "    \n",
    "print(\"Factorial definido\")"
   ]
  },
  {
   "cell_type": "code",
   "execution_count": 3,
   "metadata": {},
   "outputs": [
    {
     "name": "stdout",
     "output_type": "stream",
     "text": [
      "El número de palabras formadas es: 39916800.0\n"
     ]
    }
   ],
   "source": [
    "num = 11\n",
    "fact = factorial(num)\n",
    "denom = factorial(0)\n",
    "\n",
    "permut = fact / denom\n",
    "\n",
    "print(\"El número de palabras formadas es:\", permut)"
   ]
  },
  {
   "cell_type": "code",
   "execution_count": 4,
   "metadata": {},
   "outputs": [
    {
     "name": "stdout",
     "output_type": "stream",
     "text": [
      "Se pueden formar 55440.0 palabras de 5 letras\n"
     ]
    }
   ],
   "source": [
    "nn = 11\n",
    "r = 5\n",
    "\n",
    "nume = factorial(nn)\n",
    "denom = factorial(nn - r)\n",
    "\n",
    "nnCr = nume / denom\n",
    "\n",
    "print(\"Se pueden formar\", nnCr, \"palabras de 5 letras\")"
   ]
  },
  {
   "cell_type": "code",
   "execution_count": 5,
   "metadata": {},
   "outputs": [
    {
     "name": "stdout",
     "output_type": "stream",
     "text": [
      "La probabilidad de que una palabra de 5 letras termine en vocal es de 1.0\n"
     ]
    }
   ],
   "source": [
    "prob = nnCr / nnCr\n",
    "\n",
    "print(\"La probabilidad de que una palabra de 5 letras termine en vocal es de\", prob)"
   ]
  }
 ],
 "metadata": {
  "kernelspec": {
   "display_name": "Python 3",
   "language": "python",
   "name": "python3"
  },
  "language_info": {
   "codemirror_mode": {
    "name": "ipython",
    "version": 3
   },
   "file_extension": ".py",
   "mimetype": "text/x-python",
   "name": "python",
   "nbconvert_exporter": "python",
   "pygments_lexer": "ipython3",
   "version": "3.12.0"
  }
 },
 "nbformat": 4,
 "nbformat_minor": 2
}
